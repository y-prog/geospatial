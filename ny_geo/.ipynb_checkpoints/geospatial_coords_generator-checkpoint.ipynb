{
 "cells": [
  {
   "cell_type": "code",
   "execution_count": null,
   "id": "3829dc63",
   "metadata": {},
   "outputs": [],
   "source": [
    "from geopy.geocoders import Nominatim\n",
    "\n",
    "# Initialize the geocoder\n",
    "geolocator = Nominatim(user_agent=\"my_geocoder\")\n",
    "\n",
    "locs_list=[]\n",
    "# Geocode the address\n",
    "k=0\n",
    "for i in df.full_address[391:]:\n",
    "    k+=1\n",
    "    location = [geolocator.geocode(i)[-1]]\n",
    "    locs_list_2.append(location)\n",
    "    print(k)\n",
    "    #time.sleep(np.random.randint(1*100,2*100)/100)\n",
    "# Print latitude and longitude\n",
    "#print(\"Latitude:\", location.latitude)\n",
    "#print(\"Longitude:\", location.longitude)\n",
    "print(locs_list_2)"
   ]
  }
 ],
 "metadata": {
  "kernelspec": {
   "display_name": "base",
   "language": "python",
   "name": "base"
  },
  "language_info": {
   "codemirror_mode": {
    "name": "ipython",
    "version": 3
   },
   "file_extension": ".py",
   "mimetype": "text/x-python",
   "name": "python",
   "nbconvert_exporter": "python",
   "pygments_lexer": "ipython3",
   "version": "3.11.5"
  }
 },
 "nbformat": 4,
 "nbformat_minor": 5
}
