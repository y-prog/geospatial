{
 "cells": [
  {
   "cell_type": "code",
   "execution_count": null,
   "id": "3b2fbfe1",
   "metadata": {},
   "outputs": [],
   "source": []
  },
  {
   "cell_type": "code",
   "execution_count": 671,
   "id": "91347f71",
   "metadata": {},
   "outputs": [],
   "source": [
    "apple_store_locs =[\n",
    "'767 5th Ave ',\n",
    "\n",
    "'40 E 45th St, New York, NY 10017, USA' ,\n",
    "\n",
    "'1981 Broadway' ,\n",
    "\n",
    "'185 Greenwich St' ,\n",
    "\n",
    "'103 Prince St' \n",
    ",\n",
    "'401 W 14th St' ,\n",
    "\n",
    "'940 Madison Ave' ,\n",
    "\n",
    "'90-15 Queens Blvd Elmhurst, NY, USA',\n",
    "'247 Bedford Ave' \n",
    ",\n",
    "'123 Flatbush Ave Brooklyn, NY, USA',\n",
    " \n",
    "\n",
    "'36 W 36th St',\n",
    "' 200 Baychester Ave, Bronx, NY 10475, USA']\n",
    "\n",
    "\n",
    "\n",
    "\n",
    "\n"
   ]
  },
  {
   "cell_type": "code",
   "execution_count": 672,
   "id": "935909ad",
   "metadata": {},
   "outputs": [
    {
     "name": "stdout",
     "output_type": "stream",
     "text": [
      "1\n",
      "2\n",
      "3\n",
      "4\n",
      "5\n",
      "6\n",
      "7\n",
      "8\n",
      "9\n",
      "10\n",
      "11\n",
      "12\n",
      "[[(40.76353265, -73.97225599017521)], [(40.75449347916667, -73.97754116666667)], [(40.775066100000004, -73.98266860124198)], [(40.71155485, -74.01141990722878)], [(40.725039, -73.9991532)], [(40.7411861, -74.0054573)], [(40.7733551, -73.9644948)], [(40.73459645, -73.87001159452466)], [(40.7156238, -73.959899)], [(40.6855893, -73.9782267)], [(40.75020495, -73.9853222)], [(40.864143049999996, -73.8276784603631)]]\n"
     ]
    }
   ],
   "source": [
    "from geopy.geocoders import Nominatim\n",
    "\n",
    "# Initialize the geocoder\n",
    "geolocator = Nominatim(user_agent=\"my_geocoder\")\n",
    "\n",
    "apple_locs_list=[]\n",
    "# Geocode the address\n",
    "k=0\n",
    "for i in apple_store_locs:\n",
    "    k+=1\n",
    "    location = [geolocator.geocode(i)[-1]]\n",
    "    apple_locs_list.append(location)\n",
    "    print(k)\n",
    "    #time.sleep(np.random.randint(1*100,2*100)/100)\n",
    "# Print latitude and longitude\n",
    "#print(\"Latitude:\", location.latitude)\n",
    "#print(\"Longitude:\", location.longitude)\n",
    "print(apple_locs_list)"
   ]
  },
  {
   "cell_type": "code",
   "execution_count": null,
   "id": "32367470",
   "metadata": {},
   "outputs": [],
   "source": []
  }
 ],
 "metadata": {
  "kernelspec": {
   "display_name": "base",
   "language": "python",
   "name": "base"
  },
  "language_info": {
   "codemirror_mode": {
    "name": "ipython",
    "version": 3
   },
   "file_extension": ".py",
   "mimetype": "text/x-python",
   "name": "python",
   "nbconvert_exporter": "python",
   "pygments_lexer": "ipython3",
   "version": "3.11.5"
  }
 },
 "nbformat": 4,
 "nbformat_minor": 5
}
